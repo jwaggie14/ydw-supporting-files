{
 "cells": [
  {
   "cell_type": "markdown",
   "metadata": {},
   "source": [
    "# Start Up"
   ]
  },
  {
   "cell_type": "markdown",
   "metadata": {},
   "source": [
    "Run the cells below. They will open a browser window through selenium. (check your open windows if you don't notice it. It will be a firefox page with an orange url bar.)\n",
    "\n",
    "Log into your ESPN account and navigate to the draft.\n",
    "\n",
    "Make sure to keep everything in a single tab. Do not open links as new windows, do not open links as new tabs. This should be the default behavior if you just click on things normally (but no promises - this is hacked together at best...)"
   ]
  },
  {
   "cell_type": "markdown",
   "metadata": {},
   "source": [
    "### Updating the probabilities\n",
    "\n",
    "The default score/pick probability info is for 10 team, standard (non-ppr) scoring.\n",
    "\n",
    "You can update the probabilities with different parameters ```yahoowizard.create_prob_pickle(teams, outputname, mapping_path, scoring, outputpath)``` where teams is the number of teams in your league, and scoring is one of these four entries:\n",
    " - 'standard'\n",
    " - 'ppr'\n",
    " - 'half-ppr'\n",
    " - '2qb\n",
    "\n",
    "The other parameters deal with file mappings.\n",
    " \n",
    "Follow this link to see the source data [Fantasy Football Calculator](https://fantasyfootballcalculator.com/scenario-calculator)"
   ]
  },
  {
   "cell_type": "markdown",
   "metadata": {},
   "source": [
    "### Updating/Changing the Projections\n",
    "\n",
    "You can call ```yahoowizard.process_projections(projection_path, idmap_path, output_path)```\n",
    "to update or change the projections. ```projection_path``` is the direction to the projection files. I use [fantasyfootballanalytics.net](https://www.fantasyfootballanalytics.net)\n",
    "\n",
    "You can use any source of projections as long as you can map them to the ESPN IDs. \n",
    "\n",
    "Required columns:\n",
    " - 'position'\n",
    " - 'player'\n",
    " - 'points'\n",
    " - 'adp'\n",
    " \n",
    "This needs more development, specifically:\n",
    " - mapping tables to cross-reference all the different sources to some sort of master ID\n",
    " - It would also be useful to map the player IDs to the different providers.\n",
    " - making the column naming more flexible \n",
    " \n",
    " \n",
    " # Current Use.\n",
    " tells you how to use it... tbd"
   ]
  },
  {
   "cell_type": "code",
   "execution_count": null,
   "metadata": {},
   "outputs": [],
   "source": [
    "%load_ext autoreload\n",
    "%autoreload 2"
   ]
  },
  {
   "cell_type": "code",
   "execution_count": null,
   "metadata": {},
   "outputs": [],
   "source": [
    "import pandas as pd \n",
    "import numpy as np\n",
    "import yahoowizard as yw"
   ]
  },
  {
   "cell_type": "markdown",
   "metadata": {},
   "source": [
    "# projections"
   ]
  },
  {
   "cell_type": "code",
   "execution_count": null,
   "metadata": {},
   "outputs": [],
   "source": [
    "proj_name = 'yahoo_players.pkl'\n",
    "prob_name = 'pick_prob_NEW_10_standard.pkl'"
   ]
  },
  {
   "cell_type": "code",
   "execution_count": null,
   "metadata": {},
   "outputs": [],
   "source": [
    "yw.process_projections('yahoo_projections.csv',\n",
    "                       'espn_ffa_map.csv',\n",
    "                       proj_name)"
   ]
  },
  {
   "cell_type": "code",
   "execution_count": null,
   "metadata": {},
   "outputs": [],
   "source": [
    "yw.create_prob_pickle(10,\n",
    "                       'half-ppr',\n",
    "                       prob_name,\n",
    "                       'probmap.csv')"
   ]
  },
  {
   "cell_type": "code",
   "execution_count": null,
   "metadata": {},
   "outputs": [],
   "source": [
    "projections = pd.read_pickle(proj_name)\n",
    "\n",
    "probabilities = pd.read_pickle(prob_name)"
   ]
  },
  {
   "cell_type": "code",
   "execution_count": null,
   "metadata": {},
   "outputs": [],
   "source": [
    "league_id = 123456789\n",
    "your_first_pick = 4"
   ]
  },
  {
   "cell_type": "code",
   "execution_count": null,
   "metadata": {},
   "outputs": [],
   "source": [
    "draft = yw.YahooDraft(league_id, your_first_pick)"
   ]
  },
  {
   "cell_type": "code",
   "execution_count": null,
   "metadata": {},
   "outputs": [],
   "source": [
    "draft.league_id"
   ]
  },
  {
   "cell_type": "code",
   "execution_count": null,
   "metadata": {},
   "outputs": [],
   "source": [
    "draft.first_pick"
   ]
  },
  {
   "cell_type": "code",
   "execution_count": null,
   "metadata": {},
   "outputs": [],
   "source": [
    "draft.current_pick"
   ]
  },
  {
   "cell_type": "code",
   "execution_count": null,
   "metadata": {},
   "outputs": [],
   "source": [
    "draft.num_teams"
   ]
  },
  {
   "cell_type": "code",
   "execution_count": null,
   "metadata": {},
   "outputs": [],
   "source": [
    "oc = yw.tell_me_what_to_do(projections,probabilities,draft)\n",
    "cols = ['player','team','position','points','oc_raw_0','oc_adj_0','pb_0','oc_raw_1','oc_adj_1','pb_1']\n",
    "print('\\nRoster Needs')\n",
    "print(draft.pos_needs.loc[['QB','RB','WR','TE','DST','K']])\n",
    "print('\\n')\n",
    "oc[cols].sort_values('oc_adj_0',ascending=False).head(10)"
   ]
  },
  {
   "cell_type": "code",
   "execution_count": null,
   "metadata": {},
   "outputs": [],
   "source": [
    "projections = yw.blacklist_player('Leonard Fournette','JAC',projections)\n",
    "# projections = yw.unblacklist_player('Leonard Fournette','JAC',projections)"
   ]
  },
  {
   "cell_type": "code",
   "execution_count": null,
   "metadata": {},
   "outputs": [],
   "source": [
    "def next_picks(pick_order, mypick, thispick):\n",
    "    next_pick = pick_order.index(mypick,thispick) + 1\n",
    "    next_pick2 = pick_order.index(mypick,next_pick) + 1\n",
    "    return next_pick, next_pick2\n",
    "\n",
    "def adj_probs(players,probs, next_pick, next_pick2):\n",
    "    players['oc_adj'] = players['need_adj']*1 + ~players['need_adj']*players['oc_mult']\n",
    "    players['espn_id'] = players['espn_id'].astype(str)\n",
    "    probs['espnid'] = probs['espnid'].astype(str)\n",
    "    for i, pick in enumerate([next_pick,next_pick2]):\n",
    "        pmask = probs['pick'] == pick\n",
    "        df = players.merge(probs[pmask], how='left', left_on='espn_id', right_on='espnid')\n",
    "        df['%'] = df['%'].fillna(1)\n",
    "        df['%'] = np.where(df['picked'] | df['blacklist'], 0, df['%'])\n",
    "        df['probpicked'] = 1 - df['%']\n",
    "        df = df.groupby('position').apply(expected_max)\n",
    "        palt = df.groupby('position')['emax'].sum()\n",
    "        df['opp'] = df['position'].map(palt)\n",
    "        players[f'oc_raw_{i}'] = (df['points'] - df['opp']) * df['probpicked'] * ~df['picked'] * ~df['blacklist']\n",
    "        players[f'oc_adj_{i}'] = players[f'oc_raw_{i}'] * players['oc_adj']\n",
    "        players[f'pb_{i}'] = df['probpicked']\n",
    "    return players.copy()"
   ]
  },
  {
   "cell_type": "code",
   "execution_count": null,
   "metadata": {},
   "outputs": [],
   "source": [
    "np1, np2 = next_picks(draft.pick_order, draft.my_team, draft.current_pick)"
   ]
  },
  {
   "cell_type": "code",
   "execution_count": null,
   "metadata": {},
   "outputs": [],
   "source": [
    "np1, np2"
   ]
  },
  {
   "cell_type": "code",
   "execution_count": null,
   "metadata": {},
   "outputs": [],
   "source": [
    "projections[projections['position']=='DST'][['player','team','espn_id']].sort_values('team')"
   ]
  },
  {
   "cell_type": "code",
   "execution_count": null,
   "metadata": {},
   "outputs": [],
   "source": [
    "nfl = pd.read_json('nfl.json')"
   ]
  },
  {
   "cell_type": "code",
   "execution_count": null,
   "metadata": {},
   "outputs": [],
   "source": [
    "nfl[nfl['position'] == 'DEF'].sort_index()"
   ]
  },
  {
   "cell_type": "code",
   "execution_count": null,
   "metadata": {},
   "outputs": [],
   "source": [
    "def_map = pd.read_clipboard()"
   ]
  },
  {
   "cell_type": "code",
   "execution_count": null,
   "metadata": {},
   "outputs": [],
   "source": [
    "def_map"
   ]
  },
  {
   "cell_type": "code",
   "execution_count": null,
   "metadata": {},
   "outputs": [],
   "source": [
    "def_map = def_map.astype(str).set_index('index')"
   ]
  },
  {
   "cell_type": "code",
   "execution_count": null,
   "metadata": {},
   "outputs": [],
   "source": [
    "nfl['mapping_val'] = nfl.index"
   ]
  },
  {
   "cell_type": "code",
   "execution_count": null,
   "metadata": {},
   "outputs": [],
   "source": [
    "nfl['mapping_val']"
   ]
  },
  {
   "cell_type": "code",
   "execution_count": null,
   "metadata": {},
   "outputs": [],
   "source": [
    "nfl['yahoo_id_def'] = nfl['mapping_val'].map(def_map['yahoo_id'])"
   ]
  },
  {
   "cell_type": "code",
   "execution_count": null,
   "metadata": {},
   "outputs": [],
   "source": [
    "nfl['yahoo_id'] = nfl['yahoo_id'].fillna(nfl['yahoo_id_def'])"
   ]
  },
  {
   "cell_type": "code",
   "execution_count": null,
   "metadata": {},
   "outputs": [],
   "source": [
    "nfl = nfl.drop(columns=['yahoo_id_def'])"
   ]
  },
  {
   "cell_type": "code",
   "execution_count": null,
   "metadata": {},
   "outputs": [],
   "source": [
    "nfl.to"
   ]
  },
  {
   "cell_type": "code",
   "execution_count": null,
   "metadata": {},
   "outputs": [],
   "source": [
    "draft.update(projections)"
   ]
  },
  {
   "cell_type": "code",
   "execution_count": null,
   "metadata": {},
   "outputs": [],
   "source": [
    "draft.update(projections)"
   ]
  },
  {
   "cell_type": "code",
   "execution_count": null,
   "metadata": {},
   "outputs": [],
   "source": [
    "draft.picked_players\n"
   ]
  },
  {
   "cell_type": "code",
   "execution_count": null,
   "metadata": {},
   "outputs": [],
   "source": [
    "draft.picked_players"
   ]
  },
  {
   "cell_type": "code",
   "execution_count": null,
   "metadata": {},
   "outputs": [],
   "source": [
    "from yahoo_oauth import OAuth2\n",
    "oauth = OAuth2(None, None, from_file='oauth.json')\n",
    "if not oauth.token_is_valid():\n",
    "    oauth.refresh_access_token()"
   ]
  },
  {
   "cell_type": "code",
   "execution_count": null,
   "metadata": {},
   "outputs": [],
   "source": [
    "r = oauth.session.get('https://fantasysports.yahooapis.com/fantasy/v2/league/nfl.l.1022820/players;player_keys=nfl.p.100032')"
   ]
  },
  {
   "cell_type": "code",
   "execution_count": null,
   "metadata": {},
   "outputs": [],
   "source": [
    "print(r.text)"
   ]
  },
  {
   "cell_type": "code",
   "execution_count": null,
   "metadata": {},
   "outputs": [],
   "source": [
    "draft.scrape_draft()"
   ]
  },
  {
   "cell_type": "code",
   "execution_count": null,
   "metadata": {},
   "outputs": [],
   "source": [
    "draft.picked_players"
   ]
  },
  {
   "cell_type": "code",
   "execution_count": null,
   "metadata": {},
   "outputs": [],
   "source": [
    "import xml.etree.ElementTree as ET \n",
    "import re"
   ]
  },
  {
   "cell_type": "code",
   "execution_count": null,
   "metadata": {},
   "outputs": [],
   "source": [
    "players = {}\n",
    "teams = draft.num_teams\n",
    "for i in range(1,teams+1):\n",
    "    _url = f\"{draft.league_url}/teams;team_keys=nfl.l.{draft.league_id}.t.{i}/players\"\n",
    "    _r = oauth.session.get(_url)\n",
    "    xmlstring = _r.text\n",
    "    xmlstring = re.sub(' xmlns=\"[^\"]+\"', '', xmlstring, count=1)\n",
    "    root = ET.fromstring(xmlstring)\n",
    "    for player in root.iter('player_id'):\n",
    "        players[player.text] = i"
   ]
  },
  {
   "cell_type": "code",
   "execution_count": null,
   "metadata": {},
   "outputs": [],
   "source": [
    "players"
   ]
  },
  {
   "cell_type": "code",
   "execution_count": null,
   "metadata": {},
   "outputs": [],
   "source": [
    "nfl = nfl.T"
   ]
  },
  {
   "cell_type": "code",
   "execution_count": null,
   "metadata": {},
   "outputs": [],
   "source": [
    "nfl[nfl['position'] == 'DEF'][['player_id','espn_id','yahoo_id']]"
   ]
  },
  {
   "cell_type": "code",
   "execution_count": null,
   "metadata": {},
   "outputs": [],
   "source": [
    "players['need_adj'].unique()"
   ]
  },
  {
   "cell_type": "code",
   "execution_count": null,
   "metadata": {},
   "outputs": [],
   "source": [
    "players['need_adj']*1 + (~players['need_adj'])"
   ]
  },
  {
   "cell_type": "code",
   "execution_count": null,
   "metadata": {},
   "outputs": [],
   "source": []
  }
 ],
 "metadata": {
  "kernelspec": {
   "display_name": "Python 3",
   "language": "python",
   "name": "python3"
  },
  "language_info": {
   "codemirror_mode": {
    "name": "ipython",
    "version": 3
   },
   "file_extension": ".py",
   "mimetype": "text/x-python",
   "name": "python",
   "nbconvert_exporter": "python",
   "pygments_lexer": "ipython3",
   "version": "3.8.5"
  }
 },
 "nbformat": 4,
 "nbformat_minor": 4
}
