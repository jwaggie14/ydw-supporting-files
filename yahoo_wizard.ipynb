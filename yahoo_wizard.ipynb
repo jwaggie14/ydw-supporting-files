{
 "cells": [
  {
   "cell_type": "markdown",
   "metadata": {},
   "source": [
    "# Start Up"
   ]
  },
  {
   "cell_type": "markdown",
   "metadata": {},
   "source": [
    "Run the cells below. They will open a browser window through selenium. (check your open windows if you don't notice it. It will be a firefox page with an orange url bar.)\n",
    "\n",
    "Log into your ESPN account and navigate to the draft.\n",
    "\n",
    "Make sure to keep everything in a single tab. Do not open links as new windows, do not open links as new tabs. This should be the default behavior if you just click on things normally (but no promises - this is hacked together at best...)"
   ]
  },
  {
   "cell_type": "markdown",
   "metadata": {},
   "source": [
    "### Updating the probabilities\n",
    "\n",
    "The default score/pick probability info is for 10 team, standard (non-ppr) scoring.\n",
    "\n",
    "You can update the probabilities with different parameters ```yahoowizard.create_prob_pickle(teams, outputname, mapping_path, scoring, outputpath)``` where teams is the number of teams in your league, and scoring is one of these four entries:\n",
    " - 'standard'\n",
    " - 'ppr'\n",
    " - 'half-ppr'\n",
    " - '2qb\n",
    "\n",
    "The other parameters deal with file mappings.\n",
    " \n",
    "Follow this link to see the source data [Fantasy Football Calculator](https://fantasyfootballcalculator.com/scenario-calculator)"
   ]
  },
  {
   "cell_type": "markdown",
   "metadata": {},
   "source": [
    "### Updating/Changing the Projections\n",
    "\n",
    "You can call ```yahoowizard.process_projections(projection_path, idmap_path, output_path)```\n",
    "to update or change the projections. ```projection_path``` is the direction to the projection files. I use [fantasyfootballanalytics.net](https://www.fantasyfootballanalytics.net)\n",
    "\n",
    "You can use any source of projections as long as you can map them to the ESPN IDs. \n",
    "\n",
    "Required columns:\n",
    " - 'position'\n",
    " - 'player'\n",
    " - 'points'\n",
    " - 'adp'\n",
    " \n",
    "This needs more development, specifically:\n",
    " - mapping tables to cross-reference all the different sources to some sort of master ID\n",
    " - It would also be useful to map the player IDs to the different providers.\n",
    " - making the column naming more flexible \n",
    " \n",
    " \n",
    " # Current Use.\n",
    " tells you how to use it... tbd"
   ]
  },
  {
   "cell_type": "code",
   "execution_count": 1,
   "metadata": {},
   "outputs": [
    {
     "name": "stderr",
     "output_type": "stream",
     "text": [
      "[2020-09-02 15:32:34,769 DEBUG] [yahoo_oauth.oauth.__init__] Checking \n",
      "[2020-09-02 15:32:34,773 DEBUG] [yahoo_oauth.oauth.token_is_valid] ELAPSED TIME : 2527.8708856105804\n",
      "[2020-09-02 15:32:34,775 DEBUG] [yahoo_oauth.oauth.token_is_valid] TOKEN IS STILL VALID\n",
      "[2020-09-02 15:32:34,778 DEBUG] [yahoo_oauth.oauth.token_is_valid] ELAPSED TIME : 2527.8758721351624\n",
      "[2020-09-02 15:32:34,780 DEBUG] [yahoo_oauth.oauth.token_is_valid] TOKEN IS STILL VALID\n"
     ]
    }
   ],
   "source": [
    "import pandas as pd \n",
    "import numpy as np\n",
    "import yahoowizard as yw"
   ]
  },
  {
   "cell_type": "markdown",
   "metadata": {},
   "source": [
    "# projections"
   ]
  },
  {
   "cell_type": "code",
   "execution_count": 2,
   "metadata": {},
   "outputs": [
    {
     "name": "stderr",
     "output_type": "stream",
     "text": [
      "[2020-09-02 15:32:34,856 INFO] [numexpr.utils.utils._init_num_threads] NumExpr defaulting to 8 threads.\n"
     ]
    }
   ],
   "source": [
    "proj_name = 'yahoo_players.pkl'\n",
    "prob_name = 'pick_prob_NEW_10_standard.pkl'\n",
    "\n",
    "yw.process_projections('ffa_customrankings2020-0.csv',\n",
    "                       'espn_ffa_map.csv',\n",
    "                       proj_name)\n",
    "\n",
    "# yw.update_probabilities(10,\n",
    "#                         'standard',\n",
    "#                         prob_name,\n",
    "#                         'probmap.csv')\n",
    "\n",
    "projections = pd.read_pickle(proj_name)\n",
    "\n",
    "probabilities = pd.read_pickle(prob_name)\n",
    "\n"
   ]
  },
  {
   "cell_type": "code",
   "execution_count": 3,
   "metadata": {},
   "outputs": [
    {
     "data": {
      "text/plain": [
       "Index(['playerId', 'player', 'team', 'position', 'age', 'exp', 'bye', 'points',\n",
       "       'lower', 'upper', 'sdPts', 'positionRank', 'dropoff', 'tier',\n",
       "       'ptSpread', 'overallECR', 'positionECR', 'sdRank', 'risk', 'sleeper',\n",
       "       'vor', 'overallRank', 'vorLow', 'vorHigh', 'adp', 'auctionValue',\n",
       "       'adpDiff', 'cost', 'ppdollar', 'espn_names', 'espn_id', 'picked',\n",
       "       'blacklist', 'oc_adj', 'player_id', 'stats_id', 'yahoo_id',\n",
       "       'rotowire_id', 'rotoworld_id', 'fantasy_data_id', 'sportradar_id'],\n",
       "      dtype='object')"
      ]
     },
     "execution_count": 3,
     "metadata": {},
     "output_type": "execute_result"
    }
   ],
   "source": [
    "projections.columns"
   ]
  },
  {
   "cell_type": "code",
   "execution_count": 4,
   "metadata": {},
   "outputs": [],
   "source": [
    "league_id = 9989340\n",
    "your_first_pick = 6"
   ]
  },
  {
   "cell_type": "code",
   "execution_count": 5,
   "metadata": {},
   "outputs": [],
   "source": [
    "draft = yw.YahooDraft(league_id, your_first_pick)"
   ]
  },
  {
   "cell_type": "code",
   "execution_count": 6,
   "metadata": {},
   "outputs": [
    {
     "data": {
      "text/plain": [
       "'9989340'"
      ]
     },
     "execution_count": 6,
     "metadata": {},
     "output_type": "execute_result"
    }
   ],
   "source": [
    "draft.league_id"
   ]
  },
  {
   "cell_type": "code",
   "execution_count": 7,
   "metadata": {},
   "outputs": [
    {
     "data": {
      "text/plain": [
       "6"
      ]
     },
     "execution_count": 7,
     "metadata": {},
     "output_type": "execute_result"
    }
   ],
   "source": [
    "draft.first_pick"
   ]
  },
  {
   "cell_type": "code",
   "execution_count": 8,
   "metadata": {},
   "outputs": [
    {
     "data": {
      "text/plain": [
       "1"
      ]
     },
     "execution_count": 8,
     "metadata": {},
     "output_type": "execute_result"
    }
   ],
   "source": [
    "draft.current_pick"
   ]
  },
  {
   "cell_type": "code",
   "execution_count": 9,
   "metadata": {},
   "outputs": [
    {
     "data": {
      "text/plain": [
       "10"
      ]
     },
     "execution_count": 9,
     "metadata": {},
     "output_type": "execute_result"
    }
   ],
   "source": [
    "draft.num_teams"
   ]
  },
  {
   "cell_type": "code",
   "execution_count": 10,
   "metadata": {},
   "outputs": [
    {
     "data": {
      "text/plain": [
       "15"
      ]
     },
     "execution_count": 10,
     "metadata": {},
     "output_type": "execute_result"
    }
   ],
   "source": [
    "draft.req_positions.sum()"
   ]
  },
  {
   "cell_type": "code",
   "execution_count": 19,
   "metadata": {},
   "outputs": [
    {
     "name": "stdout",
     "output_type": "stream",
     "text": [
      "this pick is 55\n",
      "Your Next Pick is 66\n",
      "Your 2nd Pick is 75\n",
      "\n",
      "Roster Needs\n",
      "       slot   flex   need\n",
      "QB     True  False   True\n",
      "RB    False  False  False\n",
      "WR     True  False   True\n",
      "TE    False  False  False\n",
      "D/ST   True  False   True\n",
      "K      True  False   True\n",
      "\n",
      "\n"
     ]
    },
    {
     "data": {
      "text/html": [
       "<div>\n",
       "<style scoped>\n",
       "    .dataframe tbody tr th:only-of-type {\n",
       "        vertical-align: middle;\n",
       "    }\n",
       "\n",
       "    .dataframe tbody tr th {\n",
       "        vertical-align: top;\n",
       "    }\n",
       "\n",
       "    .dataframe thead th {\n",
       "        text-align: right;\n",
       "    }\n",
       "</style>\n",
       "<table border=\"1\" class=\"dataframe\">\n",
       "  <thead>\n",
       "    <tr style=\"text-align: right;\">\n",
       "      <th></th>\n",
       "      <th>player</th>\n",
       "      <th>team</th>\n",
       "      <th>position</th>\n",
       "      <th>points</th>\n",
       "      <th>adp</th>\n",
       "      <th>oc_raw_0</th>\n",
       "      <th>oc_adj_0</th>\n",
       "      <th>oc_adj_1</th>\n",
       "    </tr>\n",
       "  </thead>\n",
       "  <tbody>\n",
       "    <tr>\n",
       "      <th>34</th>\n",
       "      <td>David Montgomery</td>\n",
       "      <td>CHI</td>\n",
       "      <td>RB</td>\n",
       "      <td>157.738674</td>\n",
       "      <td>44.5733</td>\n",
       "      <td>27.532893</td>\n",
       "      <td>13.766447</td>\n",
       "      <td>18.064908</td>\n",
       "    </tr>\n",
       "    <tr>\n",
       "      <th>44</th>\n",
       "      <td>D'Andre Swift</td>\n",
       "      <td>DET</td>\n",
       "      <td>RB</td>\n",
       "      <td>146.748735</td>\n",
       "      <td>57.5750</td>\n",
       "      <td>12.969676</td>\n",
       "      <td>6.484838</td>\n",
       "      <td>12.318539</td>\n",
       "    </tr>\n",
       "    <tr>\n",
       "      <th>59</th>\n",
       "      <td>Kareem Hunt</td>\n",
       "      <td>CLE</td>\n",
       "      <td>RB</td>\n",
       "      <td>137.901553</td>\n",
       "      <td>77.4033</td>\n",
       "      <td>6.880020</td>\n",
       "      <td>3.440010</td>\n",
       "      <td>8.105615</td>\n",
       "    </tr>\n",
       "    <tr>\n",
       "      <th>35</th>\n",
       "      <td>Deshaun Watson</td>\n",
       "      <td>HOU</td>\n",
       "      <td>QB</td>\n",
       "      <td>294.993798</td>\n",
       "      <td>56.3933</td>\n",
       "      <td>8.993886</td>\n",
       "      <td>2.698166</td>\n",
       "      <td>5.116341</td>\n",
       "    </tr>\n",
       "    <tr>\n",
       "      <th>56</th>\n",
       "      <td>Tyler Lockett</td>\n",
       "      <td>SEA</td>\n",
       "      <td>WR</td>\n",
       "      <td>151.476304</td>\n",
       "      <td>53.8167</td>\n",
       "      <td>0.322334</td>\n",
       "      <td>0.161167</td>\n",
       "      <td>4.577192</td>\n",
       "    </tr>\n",
       "    <tr>\n",
       "      <th>53</th>\n",
       "      <td>DeVante Parker</td>\n",
       "      <td>MIA</td>\n",
       "      <td>WR</td>\n",
       "      <td>152.464693</td>\n",
       "      <td>59.3450</td>\n",
       "      <td>0.120616</td>\n",
       "      <td>0.060308</td>\n",
       "      <td>2.814620</td>\n",
       "    </tr>\n",
       "    <tr>\n",
       "      <th>72</th>\n",
       "      <td>Darren Waller</td>\n",
       "      <td>LVR</td>\n",
       "      <td>TE</td>\n",
       "      <td>118.040437</td>\n",
       "      <td>60.0900</td>\n",
       "      <td>3.250805</td>\n",
       "      <td>0.975242</td>\n",
       "      <td>2.383343</td>\n",
       "    </tr>\n",
       "    <tr>\n",
       "      <th>47</th>\n",
       "      <td>Kyler Murray</td>\n",
       "      <td>ARI</td>\n",
       "      <td>QB</td>\n",
       "      <td>283.821322</td>\n",
       "      <td>71.3267</td>\n",
       "      <td>1.444956</td>\n",
       "      <td>0.433487</td>\n",
       "      <td>2.010874</td>\n",
       "    </tr>\n",
       "    <tr>\n",
       "      <th>67</th>\n",
       "      <td>T.Y. Hilton</td>\n",
       "      <td>IND</td>\n",
       "      <td>WR</td>\n",
       "      <td>144.640913</td>\n",
       "      <td>63.2733</td>\n",
       "      <td>-6.278276</td>\n",
       "      <td>-3.139138</td>\n",
       "      <td>1.159497</td>\n",
       "    </tr>\n",
       "    <tr>\n",
       "      <th>69</th>\n",
       "      <td>D.J. Chark</td>\n",
       "      <td>JAC</td>\n",
       "      <td>WR</td>\n",
       "      <td>144.162572</td>\n",
       "      <td>58.2400</td>\n",
       "      <td>-6.795325</td>\n",
       "      <td>-3.397663</td>\n",
       "      <td>0.920326</td>\n",
       "    </tr>\n",
       "  </tbody>\n",
       "</table>\n",
       "</div>"
      ],
      "text/plain": [
       "              player team position      points      adp   oc_raw_0   oc_adj_0  \\\n",
       "34  David Montgomery  CHI       RB  157.738674  44.5733  27.532893  13.766447   \n",
       "44     D'Andre Swift  DET       RB  146.748735  57.5750  12.969676   6.484838   \n",
       "59       Kareem Hunt  CLE       RB  137.901553  77.4033   6.880020   3.440010   \n",
       "35    Deshaun Watson  HOU       QB  294.993798  56.3933   8.993886   2.698166   \n",
       "56     Tyler Lockett  SEA       WR  151.476304  53.8167   0.322334   0.161167   \n",
       "53    DeVante Parker  MIA       WR  152.464693  59.3450   0.120616   0.060308   \n",
       "72     Darren Waller  LVR       TE  118.040437  60.0900   3.250805   0.975242   \n",
       "47      Kyler Murray  ARI       QB  283.821322  71.3267   1.444956   0.433487   \n",
       "67       T.Y. Hilton  IND       WR  144.640913  63.2733  -6.278276  -3.139138   \n",
       "69        D.J. Chark  JAC       WR  144.162572  58.2400  -6.795325  -3.397663   \n",
       "\n",
       "     oc_adj_1  \n",
       "34  18.064908  \n",
       "44  12.318539  \n",
       "59   8.105615  \n",
       "35   5.116341  \n",
       "56   4.577192  \n",
       "53   2.814620  \n",
       "72   2.383343  \n",
       "47   2.010874  \n",
       "67   1.159497  \n",
       "69   0.920326  "
      ]
     },
     "execution_count": 19,
     "metadata": {},
     "output_type": "execute_result"
    }
   ],
   "source": [
    "oc = yw.tell_me_what_to_do(projections,probabilities,draft)\n",
    "cols = ['player','team','position','points','adp','oc_raw_0','oc_adj_0','oc_adj_1']\n",
    "print('\\nRoster Needs')\n",
    "print(draft.pos_needs.loc[['QB','RB','WR','TE','D/ST','K']])\n",
    "print('\\n')\n",
    "oc[cols].sort_values('oc_adj_1',ascending=False).head(10)"
   ]
  },
  {
   "cell_type": "code",
   "execution_count": 13,
   "metadata": {},
   "outputs": [
    {
     "name": "stdout",
     "output_type": "stream",
     "text": [
      "Blacklisting these players:\n",
      "               player team position\n",
      "19  Leonard Fournette  JAC       RB\n"
     ]
    }
   ],
   "source": [
    "projections = yw.blacklist_player('Leonard Fournette','JAC',projections)\n",
    "# projections = yw.unblacklist_player('Leonard Fournette','JAC',projections)"
   ]
  },
  {
   "cell_type": "code",
   "execution_count": null,
   "metadata": {},
   "outputs": [],
   "source": []
  }
 ],
 "metadata": {
  "kernelspec": {
   "display_name": "Python 3",
   "language": "python",
   "name": "python3"
  },
  "language_info": {
   "codemirror_mode": {
    "name": "ipython",
    "version": 3
   },
   "file_extension": ".py",
   "mimetype": "text/x-python",
   "name": "python",
   "nbconvert_exporter": "python",
   "pygments_lexer": "ipython3",
   "version": "3.8.5"
  }
 },
 "nbformat": 4,
 "nbformat_minor": 4
}
