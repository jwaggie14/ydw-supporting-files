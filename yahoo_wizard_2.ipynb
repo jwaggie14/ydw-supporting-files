{
 "cells": [
  {
   "cell_type": "markdown",
   "metadata": {},
   "source": [
    "# Start Up"
   ]
  },
  {
   "cell_type": "markdown",
   "metadata": {},
   "source": [
    "Run the cells below. They will open a browser window through selenium. (check your open windows if you don't notice it. It will be a firefox page with an orange url bar.)\n",
    "\n",
    "Log into your ESPN account and navigate to the draft.\n",
    "\n",
    "Make sure to keep everything in a single tab. Do not open links as new windows, do not open links as new tabs. This should be the default behavior if you just click on things normally (but no promises - this is hacked together at best...)"
   ]
  },
  {
   "cell_type": "markdown",
   "metadata": {},
   "source": [
    "### Updating the probabilities\n",
    "\n",
    "The default score/pick probability info is for 10 team, standard (non-ppr) scoring.\n",
    "\n",
    "You can update the probabilities with different parameters ```yahoowizard.create_prob_pickle(teams, outputname, mapping_path, scoring, outputpath)``` where teams is the number of teams in your league, and scoring is one of these four entries:\n",
    " - 'standard'\n",
    " - 'ppr'\n",
    " - 'half-ppr'\n",
    " - '2qb\n",
    "\n",
    "The other parameters deal with file mappings.\n",
    " \n",
    "Follow this link to see the source data [Fantasy Football Calculator](https://fantasyfootballcalculator.com/scenario-calculator)"
   ]
  },
  {
   "cell_type": "markdown",
   "metadata": {},
   "source": [
    "### Updating/Changing the Projections\n",
    "\n",
    "You can call ```yahoowizard.process_projections(projection_path, idmap_path, output_path)```\n",
    "to update or change the projections. ```projection_path``` is the direction to the projection files. I use [fantasyfootballanalytics.net](https://www.fantasyfootballanalytics.net)\n",
    "\n",
    "You can use any source of projections as long as you can map them to the ESPN IDs. \n",
    "\n",
    "Required columns:\n",
    " - 'position'\n",
    " - 'player'\n",
    " - 'points'\n",
    " - 'adp'\n",
    " \n",
    "This needs more development, specifically:\n",
    " - mapping tables to cross-reference all the different sources to some sort of master ID\n",
    " - It would also be useful to map the player IDs to the different providers.\n",
    " - making the column naming more flexible \n",
    " \n",
    " \n",
    " # Current Use.\n",
    " tells you how to use it... tbd"
   ]
  },
  {
   "cell_type": "code",
   "execution_count": null,
   "metadata": {},
   "outputs": [],
   "source": [
    "%load_ext autoreload\n",
    "%autoreload 2"
   ]
  },
  {
   "cell_type": "code",
   "execution_count": null,
   "metadata": {},
   "outputs": [],
   "source": [
    "import pandas as pd \n",
    "import numpy as np\n",
    "import yahoowizard as yw\n",
    "import matplotlib.pyplot as plt"
   ]
  },
  {
   "cell_type": "markdown",
   "metadata": {},
   "source": [
    "# projections"
   ]
  },
  {
   "cell_type": "code",
   "execution_count": null,
   "metadata": {},
   "outputs": [],
   "source": [
    "proj_name = 'yahoo_players.pkl'\n",
    "prob_name = 'pick_prob_12_halfppr.pkl'"
   ]
  },
  {
   "cell_type": "code",
   "execution_count": null,
   "metadata": {},
   "outputs": [],
   "source": [
    "yw.process_projections('yahoo_projections.csv',\n",
    "                       'espn_ffa_map.csv',\n",
    "                       proj_name)"
   ]
  },
  {
   "cell_type": "code",
   "execution_count": null,
   "metadata": {},
   "outputs": [],
   "source": [
    "yw.create_prob_pickle(12,\n",
    "                       'half-ppr',\n",
    "                       prob_name,\n",
    "                       'probmap.csv')"
   ]
  },
  {
   "cell_type": "code",
   "execution_count": null,
   "metadata": {},
   "outputs": [],
   "source": [
    "projections = pd.read_pickle(proj_name)\n",
    "probabilities = pd.read_pickle(prob_name)"
   ]
  },
  {
   "cell_type": "code",
   "execution_count": null,
   "metadata": {},
   "outputs": [],
   "source": [
    "league_id = 10302553\n",
    "your_first_pick = 4"
   ]
  },
  {
   "cell_type": "code",
   "execution_count": null,
   "metadata": {
    "scrolled": false
   },
   "outputs": [],
   "source": [
    "draft = yw.YahooDraft(league_id, your_first_pick)"
   ]
  },
  {
   "cell_type": "code",
   "execution_count": null,
   "metadata": {},
   "outputs": [],
   "source": [
    "proj1 = draft.update(projections)"
   ]
  },
  {
   "cell_type": "code",
   "execution_count": null,
   "metadata": {},
   "outputs": [],
   "source": [
    "oc = yw.tell_me_what_to_do(projections,probabilities,draft)\n",
    "cols = ['player','team','position','points','oc_raw_0','oc_adj_0','pb_0','oc_raw_1','oc_adj_1','pb_1']\n",
    "print('\\nRoster Needs')\n",
    "print(draft.pos_needs.loc[['QB','RB','WR','TE','DST','K']])\n",
    "print('\\n')\n",
    "oc[cols].sort_values('oc_adj_1',ascending=False).round(2).head(10)"
   ]
  },
  {
   "cell_type": "code",
   "execution_count": null,
   "metadata": {},
   "outputs": [],
   "source": [
    "fig, ax = plt.subplots(figsize=(10,5))\n",
    "oc.groupby('position').apply(lambda x: x.sort_values('oc_adj_1',ascending=False)['oc_adj_1'].reset_index(drop=True).head(5).rename(x['pos'].unique()[0]).plot(ax=ax, legend=True))\n",
    "plt.axhline(0, color='k')\n",
    "plt.show()"
   ]
  },
  {
   "cell_type": "code",
   "execution_count": null,
   "metadata": {},
   "outputs": [],
   "source": [
    "projections = yw.blacklist_player('Leonard Fournette','JAC',projections)\n",
    "# projections = yw.unblacklist_player('Leonard Fournette','JAC',projections)"
   ]
  }
 ],
 "metadata": {
  "kernelspec": {
   "display_name": "Python 3",
   "language": "python",
   "name": "python3"
  },
  "language_info": {
   "codemirror_mode": {
    "name": "ipython",
    "version": 3
   },
   "file_extension": ".py",
   "mimetype": "text/x-python",
   "name": "python",
   "nbconvert_exporter": "python",
   "pygments_lexer": "ipython3",
   "version": "3.8.1"
  }
 },
 "nbformat": 4,
 "nbformat_minor": 4
}
